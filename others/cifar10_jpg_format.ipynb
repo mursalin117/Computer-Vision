{
 "cells": [
  {
   "cell_type": "code",
   "execution_count": 1,
   "id": "2ade5c74-d1c6-4c19-badf-ca9b9d61abae",
   "metadata": {},
   "outputs": [
    {
     "name": "stderr",
     "output_type": "stream",
     "text": [
      "2024-11-22 17:55:57.232083: I tensorflow/core/util/port.cc:153] oneDNN custom operations are on. You may see slightly different numerical results due to floating-point round-off errors from different computation orders. To turn them off, set the environment variable `TF_ENABLE_ONEDNN_OPTS=0`.\n",
      "2024-11-22 17:55:57.255371: E external/local_xla/xla/stream_executor/cuda/cuda_fft.cc:477] Unable to register cuFFT factory: Attempting to register factory for plugin cuFFT when one has already been registered\n",
      "WARNING: All log messages before absl::InitializeLog() is called are written to STDERR\n",
      "E0000 00:00:1732276557.273606  288053 cuda_dnn.cc:8310] Unable to register cuDNN factory: Attempting to register factory for plugin cuDNN when one has already been registered\n",
      "E0000 00:00:1732276557.277845  288053 cuda_blas.cc:1418] Unable to register cuBLAS factory: Attempting to register factory for plugin cuBLAS when one has already been registered\n",
      "2024-11-22 17:55:57.293115: I tensorflow/core/platform/cpu_feature_guard.cc:210] This TensorFlow binary is optimized to use available CPU instructions in performance-critical operations.\n",
      "To enable the following instructions: AVX2 AVX512F AVX512_VNNI AVX512_BF16 FMA, in other operations, rebuild TensorFlow with the appropriate compiler flags.\n"
     ]
    },
    {
     "name": "stdout",
     "output_type": "stream",
     "text": [
      "Saved CIFAR-10 dataset in 'cifar10/train' and 'cifar10/test' directories.\n"
     ]
    }
   ],
   "source": [
    "import os\n",
    "from tensorflow.keras.datasets import cifar10\n",
    "from PIL import Image\n",
    "\n",
    "# Function to save images in proper directory structure\n",
    "def save_cifar10_as_images(data, labels, output_dir):\n",
    "    # Create train or test directory\n",
    "    os.makedirs(output_dir, exist_ok=True)\n",
    "    \n",
    "    for i, (img, label) in enumerate(zip(data, labels)):\n",
    "        label_dir = os.path.join(output_dir, str(label))  # Create subdirectory for each label\n",
    "        os.makedirs(label_dir, exist_ok=True)\n",
    "        \n",
    "        img = Image.fromarray(img)  # Convert numpy array to PIL Image\n",
    "        img.save(os.path.join(label_dir, f\"{i}.jpg\"))  # Save as JPG with unique name\n",
    "\n",
    "# Load CIFAR-10 dataset\n",
    "(trainX, trainY), (testX, testY) = cifar10.load_data()\n",
    "\n",
    "# Convert labels to 1D arrays\n",
    "trainY = trainY.flatten()\n",
    "testY = testY.flatten()\n",
    "\n",
    "# Paths to save images\n",
    "train_dir = \"cifar10/train\"\n",
    "test_dir = \"cifar10/test\"\n",
    "\n",
    "# Save training and testing images\n",
    "save_cifar10_as_images(trainX, trainY, train_dir)\n",
    "save_cifar10_as_images(testX, testY, test_dir)\n",
    "\n",
    "print(f\"Saved CIFAR-10 dataset in '{train_dir}' and '{test_dir}' directories.\")\n"
   ]
  },
  {
   "cell_type": "code",
   "execution_count": null,
   "id": "38e7165a-e687-47c3-8641-43ed4f76885a",
   "metadata": {},
   "outputs": [],
   "source": []
  }
 ],
 "metadata": {
  "kernelspec": {
   "display_name": "Python 3 (ipykernel)",
   "language": "python",
   "name": "python3"
  },
  "language_info": {
   "codemirror_mode": {
    "name": "ipython",
    "version": 3
   },
   "file_extension": ".py",
   "mimetype": "text/x-python",
   "name": "python",
   "nbconvert_exporter": "python",
   "pygments_lexer": "ipython3",
   "version": "3.12.4"
  }
 },
 "nbformat": 4,
 "nbformat_minor": 5
}

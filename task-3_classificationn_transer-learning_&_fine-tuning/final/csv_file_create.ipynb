{
 "cells": [
  {
   "cell_type": "code",
   "execution_count": 1,
   "id": "899ae659-4625-4e58-9175-ed704bc34a4a",
   "metadata": {},
   "outputs": [],
   "source": [
    "import csv"
   ]
  },
  {
   "cell_type": "code",
   "execution_count": 2,
   "id": "b0d2e0f8-af08-4b42-9f7d-d5c312f446a8",
   "metadata": {},
   "outputs": [],
   "source": [
    "# Define CSV file and column headers\n",
    "csv_file = \"/home/mursalin/m3c/computer-vision/task/multiple_runs_metrics.csv\"\n",
    "fieldnames = [\"run\", \"train_loss\", \"train_accuracy\", \"val_loss\", \"val_accuracy\", \"test_loss\", \"test_accuracy\"]"
   ]
  },
  {
   "cell_type": "code",
   "execution_count": 3,
   "id": "97d35a92-cee2-43fe-8be5-53b32a3dfcdb",
   "metadata": {},
   "outputs": [],
   "source": [
    "# Initialize the CSV file with headers\n",
    "with open(csv_file, mode=\"w\", newline=\"\") as file:\n",
    "    writer = csv.DictWriter(file, fieldnames=fieldnames)\n",
    "    writer.writeheader()"
   ]
  },
  {
   "cell_type": "code",
   "execution_count": null,
   "id": "f757a8f5-45f4-45a4-9b82-c5d0cd89d793",
   "metadata": {},
   "outputs": [],
   "source": [
    "# # Loop for multiple runs\n",
    "# for run in range(1, num_runs + 1):\n",
    "#     print(f\"Running model training {run}\")\n",
    "    \n",
    "#     # Train the model\n",
    "#     history = model.fit(trainX, trainY, epochs=10, batch_size=32, validation_data=(valX, valY), verbose=0)\n",
    "\n",
    "#     # Evaluate on test data\n",
    "#     test_metrics = model.evaluate(testX, testY, verbose=0)\n",
    "#     test_metrics = dict(zip(model.metrics_names, test_metrics))\n",
    "    \n",
    "#     # Get training and validation metrics from the last epoch\n",
    "#     train_loss = history.history[\"loss\"][-1]\n",
    "#     train_accuracy = history.history[\"accuracy\"][-1]\n",
    "#     val_loss = history.history[\"val_loss\"][-1]\n",
    "#     val_accuracy = history.history[\"val_accuracy\"][-1]\n",
    "#     test_loss = test_metrics[\"loss\"]\n",
    "#     test_accuracy = test_metrics[\"accuracy\"]\n",
    "    \n",
    "#     # Append metrics to CSV file\n",
    "#     with open(csv_file, mode=\"a\", newline=\"\") as file:\n",
    "#         writer = csv.DictWriter(file, fieldnames=fieldnames)\n",
    "#         writer.writerow({\n",
    "#             \"run\": run,\n",
    "#             \"train_loss\": train_loss,\n",
    "#             \"train_accuracy\": train_accuracy,\n",
    "#             \"val_loss\": val_loss,\n",
    "#             \"val_accuracy\": val_accuracy,\n",
    "#             \"test_loss\": test_loss,\n",
    "#             \"test_accuracy\": test_accuracy\n",
    "#         })\n"
   ]
  }
 ],
 "metadata": {
  "kernelspec": {
   "display_name": "Python 3 (ipykernel)",
   "language": "python",
   "name": "python3"
  },
  "language_info": {
   "codemirror_mode": {
    "name": "ipython",
    "version": 3
   },
   "file_extension": ".py",
   "mimetype": "text/x-python",
   "name": "python",
   "nbconvert_exporter": "python",
   "pygments_lexer": "ipython3",
   "version": "3.12.4"
  }
 },
 "nbformat": 4,
 "nbformat_minor": 5
}
